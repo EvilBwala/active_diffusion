{
 "cells": [
  {
   "cell_type": "code",
   "execution_count": 12,
   "id": "6817ea94-a5a4-434c-905f-88f3b144d065",
   "metadata": {},
   "outputs": [],
   "source": [
    "import torch\n",
    "import matplotlib.pyplot as plt\n",
    "\n",
    "def generate_gmm_pytorch(means, covariances, probabilities, num_samples=1000, seed=None):\n",
    "    \"\"\"\n",
    "    Generates a Gaussian Mixture Model (GMM) distribution in PyTorch using given means, covariances, and probabilities.\n",
    "\n",
    "    Parameters:\n",
    "        means (torch.Tensor): A (N, d) tensor of Gaussian means.\n",
    "        covariances (torch.Tensor): A (N, d, d) tensor of covariance matrices.\n",
    "        probabilities (torch.Tensor): A (N,) tensor of probabilities for each Gaussian component.\n",
    "        num_samples (int): Total number of samples to generate.\n",
    "        seed (int, optional): Random seed for reproducibility.\n",
    "\n",
    "    Returns:\n",
    "        samples (torch.Tensor): Generated samples from the GMM.\n",
    "        labels (torch.Tensor): Component labels for each sample.\n",
    "        means (torch.Tensor): Means of the Gaussian components.\n",
    "        covariances (torch.Tensor): Covariance matrices of the Gaussian components.\n",
    "        probabilities (torch.Tensor): Probability vector for the components.\n",
    "    \"\"\"\n",
    "    if seed is not None:\n",
    "        torch.manual_seed(seed)\n",
    "\n",
    "    N, d = means.shape  # Number of components & dimensions\n",
    "\n",
    "    # Ensure covariance matrices and probabilities are in the right format\n",
    "    assert covariances.shape == (N, d, d), \"Covariances must have shape (N, d, d)\"\n",
    "    assert probabilities.shape == (N,), \"Probabilities must have shape (N,)\"\n",
    "\n",
    "    # Normalize probabilities in case they don't sum to 1\n",
    "    probabilities = probabilities / probabilities.sum()\n",
    "\n",
    "    # Generate samples\n",
    "    samples = []\n",
    "    labels = []\n",
    "    for _ in range(num_samples):\n",
    "        # Choose a Gaussian component based on user-defined probabilities\n",
    "        component = torch.multinomial(probabilities, 1).item()\n",
    "\n",
    "        # Sample from the chosen Gaussian component\n",
    "        mean = means[component]\n",
    "        cov = covariances[component]\n",
    "\n",
    "        # Sample using multivariate normal distribution\n",
    "        sample = torch.distributions.MultivariateNormal(mean, covariance_matrix=cov).sample()\n",
    "        samples.append(sample)\n",
    "        labels.append(component)\n",
    "\n",
    "    samples = torch.stack(samples)  # Convert list to tensor\n",
    "    labels = torch.tensor(labels)\n",
    "\n",
    "    # If d=2, plot the distribution\n",
    "    if d == 2:\n",
    "        plt.figure(figsize=(8, 6))\n",
    "        for i in range(N):\n",
    "            plt.scatter(samples[labels == i, 0].numpy(), samples[labels == i, 1].numpy(),\n",
    "                        label=f'Component {i}', alpha=0.5)\n",
    "        plt.scatter(means[:, 0].numpy(), means[:, 1].numpy(), color='red', marker='x', s=100, label='Means')\n",
    "        plt.legend()\n",
    "        plt.title(f'Gaussian Mixture Model (PyTorch, d={d}, N={N})')\n",
    "        plt.show()\n",
    "\n",
    "    return samples, labels, means, covariances, probabilities\n",
    "\n",
    "\n",
    "def generate_random_covariances(N, d, seed=None):\n",
    "    \"\"\"\n",
    "    Generates N random positive-definite covariance matrices of size (d, d).\n",
    "    \n",
    "    Parameters:\n",
    "        N (int): Number of Gaussian components.\n",
    "        d (int): Number of dimensions.\n",
    "        seed (int, optional): Random seed for reproducibility.\n",
    "\n",
    "    Returns:\n",
    "        covariances (torch.Tensor): A (N, d, d) tensor of positive-definite covariance matrices.\n",
    "    \"\"\"\n",
    "    if seed is not None:\n",
    "        torch.manual_seed(seed)\n",
    "\n",
    "    covariances = []\n",
    "    for _ in range(N):\n",
    "        A = torch.randn(d, d)  # Random matrix\n",
    "        cov_matrix = torch.mm(A, A.T)  # Ensure positive definiteness\n",
    "        cov_matrix += torch.eye(d) * 0.1  # Add small value to diagonal for stability\n",
    "        covariances.append(cov_matrix)\n",
    "\n",
    "    return torch.stack(covariances)  # Shape (N, d, d)\n",
    "\n",
    "# Example Usage:\n",
    "d = 3   # Number of dimensions\n",
    "N = 4   # Number of Gaussian components\n",
    "num_samples = 2000  # Number of samples\n",
    "\n",
    "# Define means and covariances manually\n",
    "#means = torch.tensor([[2.0, 3.0], [-3.0, -2.0], [5.0, -4.0]])  # Shape (N, d)\n",
    "#covariances = torch.stack([\n",
    "#    torch.tensor([[1.0, 0.2], [0.2, 1.5]]),\n",
    "#    torch.tensor([[1.5, -0.3], [-0.3, 1.0]]),\n",
    "#    torch.tensor([[0.8, 0.1], [0.1, 0.9]])\n",
    "#])  # Shape (N, d, d)\n",
    "\n",
    "means = torch.randn(N, d)\n",
    "covariances = generate_random_covariances(N, d)\n",
    "\n",
    "# Define component probabilities (user-defined)\n",
    "probabilities = torch.distributions.Dirichlet(torch.ones(N)).sample()\n",
    "\n",
    "# Generate GMM samples\n",
    "samples, labels, means, covariances, probabilities = generate_gmm_pytorch(means, covariances, probabilities, num_samples)\n"
   ]
  },
  {
   "cell_type": "code",
   "execution_count": 13,
   "id": "df11c8c9-0ce4-4316-97bc-e3f7f87b3e97",
   "metadata": {},
   "outputs": [
    {
     "data": {
      "text/plain": [
       "torch.Size([2000, 3])"
      ]
     },
     "execution_count": 13,
     "metadata": {},
     "output_type": "execute_result"
    }
   ],
   "source": [
    "samples.shape"
   ]
  },
  {
   "cell_type": "code",
   "execution_count": 8,
   "id": "c4e68ffd-d444-4a88-9626-9112bf2f0472",
   "metadata": {},
   "outputs": [
    {
     "data": {
      "text/plain": [
       "torch.Size([3, 2, 2])"
      ]
     },
     "execution_count": 8,
     "metadata": {},
     "output_type": "execute_result"
    }
   ],
   "source": [
    "covariances.shape"
   ]
  },
  {
   "cell_type": "code",
   "execution_count": null,
   "id": "7eff4a5a-de7b-407d-8fed-ddb1b6e9dd9d",
   "metadata": {},
   "outputs": [],
   "source": []
  }
 ],
 "metadata": {
  "kernelspec": {
   "display_name": "Python 3 (ipykernel)",
   "language": "python",
   "name": "python3"
  },
  "language_info": {
   "codemirror_mode": {
    "name": "ipython",
    "version": 3
   },
   "file_extension": ".py",
   "mimetype": "text/x-python",
   "name": "python",
   "nbconvert_exporter": "python",
   "pygments_lexer": "ipython3",
   "version": "3.8.20"
  }
 },
 "nbformat": 4,
 "nbformat_minor": 5
}
